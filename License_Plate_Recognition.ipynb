{
 "cells": [
  {
   "cell_type": "code",
   "execution_count": 1,
   "metadata": {},
   "outputs": [
    {
     "name": "stdout",
     "output_type": "stream",
     "text": [
      "Requirement already satisfied: opencv-python in c:\\users\\david salinas\\documents\\codigos de prueba para el proyecto\\number_plate_recognition-main\\nprmsys\\lib\\site-packages (4.5.5.64)\n",
      "Requirement already satisfied: numpy>=1.17.3 in c:\\users\\david salinas\\documents\\codigos de prueba para el proyecto\\number_plate_recognition-main\\nprmsys\\lib\\site-packages (from opencv-python) (1.22.3)\n",
      "Requirement already satisfied: pytesseract in c:\\users\\david salinas\\documents\\codigos de prueba para el proyecto\\number_plate_recognition-main\\nprmsys\\lib\\site-packages (0.3.9)\n",
      "Requirement already satisfied: packaging>=21.3 in c:\\users\\david salinas\\documents\\codigos de prueba para el proyecto\\number_plate_recognition-main\\nprmsys\\lib\\site-packages (from pytesseract) (21.3)\n",
      "Requirement already satisfied: Pillow>=8.0.0 in c:\\users\\david salinas\\documents\\codigos de prueba para el proyecto\\number_plate_recognition-main\\nprmsys\\lib\\site-packages (from pytesseract) (9.1.0)\n",
      "Requirement already satisfied: pyparsing!=3.0.5,>=2.0.2 in c:\\users\\david salinas\\documents\\codigos de prueba para el proyecto\\number_plate_recognition-main\\nprmsys\\lib\\site-packages (from packaging>=21.3->pytesseract) (3.0.8)\n",
      "Requirement already satisfied: imutils in c:\\users\\david salinas\\documents\\codigos de prueba para el proyecto\\number_plate_recognition-main\\nprmsys\\lib\\site-packages (0.5.4)\n",
      "Requirement already satisfied: numpy in c:\\users\\david salinas\\documents\\codigos de prueba para el proyecto\\number_plate_recognition-main\\nprmsys\\lib\\site-packages (1.22.3)\n",
      "Requirement already satisfied: Pillow in c:\\users\\david salinas\\documents\\codigos de prueba para el proyecto\\number_plate_recognition-main\\nprmsys\\lib\\site-packages (9.1.0)\n",
      "Requirement already satisfied: flask in c:\\users\\david salinas\\documents\\codigos de prueba para el proyecto\\number_plate_recognition-main\\nprmsys\\lib\\site-packages (2.1.2)\n",
      "Requirement already satisfied: Werkzeug>=2.0 in c:\\users\\david salinas\\documents\\codigos de prueba para el proyecto\\number_plate_recognition-main\\nprmsys\\lib\\site-packages (from flask) (2.1.2)\n",
      "Requirement already satisfied: importlib-metadata>=3.6.0 in c:\\users\\david salinas\\documents\\codigos de prueba para el proyecto\\number_plate_recognition-main\\nprmsys\\lib\\site-packages (from flask) (4.11.3)\n",
      "Requirement already satisfied: Jinja2>=3.0 in c:\\users\\david salinas\\documents\\codigos de prueba para el proyecto\\number_plate_recognition-main\\nprmsys\\lib\\site-packages (from flask) (3.1.2)\n",
      "Requirement already satisfied: itsdangerous>=2.0 in c:\\users\\david salinas\\documents\\codigos de prueba para el proyecto\\number_plate_recognition-main\\nprmsys\\lib\\site-packages (from flask) (2.1.2)\n",
      "Requirement already satisfied: click>=8.0 in c:\\users\\david salinas\\documents\\codigos de prueba para el proyecto\\number_plate_recognition-main\\nprmsys\\lib\\site-packages (from flask) (8.1.3)\n",
      "Requirement already satisfied: colorama in c:\\users\\david salinas\\documents\\codigos de prueba para el proyecto\\number_plate_recognition-main\\nprmsys\\lib\\site-packages (from click>=8.0->flask) (0.4.4)\n",
      "Requirement already satisfied: zipp>=0.5 in c:\\users\\david salinas\\documents\\codigos de prueba para el proyecto\\number_plate_recognition-main\\nprmsys\\lib\\site-packages (from importlib-metadata>=3.6.0->flask) (3.8.0)\n",
      "Requirement already satisfied: MarkupSafe>=2.0 in c:\\users\\david salinas\\documents\\codigos de prueba para el proyecto\\number_plate_recognition-main\\nprmsys\\lib\\site-packages (from Jinja2>=3.0->flask) (2.1.1)\n"
     ]
    }
   ],
   "source": [
    "!pip install opencv-python\n",
    "!pip install pytesseract\n",
    "!pip install imutils\n",
    "!pip install numpy\n",
    "!pip install Pillow\n",
    "!pip install flask\n",
    "\n",
    "import cv2\n",
    "import pytesseract\n",
    "import imutils\n",
    "import numpy as np\n",
    "from PIL import Image\n",
    "from flask import Flask\n",
    "    "
   ]
  },
  {
   "cell_type": "code",
   "execution_count": 1,
   "metadata": {},
   "outputs": [
    {
     "name": "stdout",
     "output_type": "stream",
     "text": [
      "Package              Version\n",
      "-------------------- -----------\n",
      "argon2-cffi          21.3.0\n",
      "argon2-cffi-bindings 21.2.0\n",
      "asttokens            2.0.5\n",
      "attrs                21.4.0\n",
      "backcall             0.2.0\n",
      "beautifulsoup4       4.11.1\n",
      "bleach               5.0.0\n",
      "cffi                 1.15.0\n",
      "click                8.1.3\n",
      "colorama             0.4.4\n",
      "debugpy              1.6.0\n",
      "decorator            5.1.1\n",
      "defusedxml           0.7.1\n",
      "entrypoints          0.4\n",
      "executing            0.8.3\n",
      "fastjsonschema       2.15.3\n",
      "Flask                2.1.2\n",
      "importlib-metadata   4.11.3\n",
      "imutils              0.5.4\n",
      "ipykernel            6.13.0\n",
      "ipython              8.2.0\n",
      "ipython-genutils     0.2.0\n",
      "ipywidgets           7.7.0\n",
      "itsdangerous         2.1.2\n",
      "jedi                 0.18.1\n",
      "Jinja2               3.1.2\n",
      "jsonschema           4.4.0\n",
      "jupyter              1.0.0\n",
      "jupyter-client       7.3.0\n",
      "jupyter-console      6.4.3\n",
      "jupyter-core         4.10.0\n",
      "jupyterlab-pygments  0.2.2\n",
      "jupyterlab-widgets   1.1.0\n",
      "MarkupSafe           2.1.1\n",
      "matplotlib-inline    0.1.3\n",
      "mistune              0.8.4\n",
      "nbclient             0.6.0\n",
      "nbconvert            6.5.0\n",
      "nbformat             5.3.0\n",
      "nest-asyncio         1.5.5\n",
      "notebook             6.4.11\n",
      "numpy                1.22.3\n",
      "opencv-python        4.5.5.64\n",
      "packaging            21.3\n",
      "pandocfilters        1.5.0\n",
      "parso                0.8.3\n",
      "pickleshare          0.7.5\n",
      "Pillow               9.1.0\n",
      "pip                  22.0.4\n",
      "prometheus-client    0.14.1\n",
      "prompt-toolkit       3.0.29\n",
      "psutil               5.9.0\n",
      "pure-eval            0.2.2\n",
      "pycparser            2.21\n",
      "Pygments             2.12.0\n",
      "pyparsing            3.0.8\n",
      "pyrsistent           0.18.1\n",
      "pytesseract          0.3.9\n",
      "python-dateutil      2.8.2\n",
      "pywin32              303\n",
      "pywinpty             2.0.5\n",
      "pyzmq                22.3.0\n",
      "qtconsole            5.3.0\n",
      "QtPy                 2.0.1\n",
      "Send2Trash           1.8.0\n",
      "setuptools           57.4.0\n",
      "six                  1.16.0\n",
      "soupsieve            2.3.2.post1\n",
      "stack-data           0.2.0\n",
      "terminado            0.13.3\n",
      "tinycss2             1.1.1\n",
      "tornado              6.1\n",
      "traitlets            5.1.1\n",
      "wcwidth              0.2.5\n",
      "webencodings         0.5.1\n",
      "Werkzeug             2.1.2\n",
      "widgetsnbextension   3.6.0\n",
      "zipp                 3.8.0\n"
     ]
    }
   ],
   "source": [
    "!pip list"
   ]
  },
  {
   "cell_type": "code",
   "execution_count": 2,
   "metadata": {},
   "outputs": [],
   "source": [
    "pytesseract.pytesseract.tesseract_cmd = 'C:\\\\Program Files (x86)\\\\Tesseract-OCR\\\\tesseract.exe'"
   ]
  },
  {
   "cell_type": "code",
   "execution_count": 4,
   "metadata": {},
   "outputs": [],
   "source": [
    "img = cv2.imread('C:\\\\Users\\\\David Salinas\\\\Documents\\\\codigos de prueba para el proyecto\\\\Number_Plate_Recognition-main\\\\placas\\\\9.jpg',cv2.IMREAD_COLOR)\n",
    "img = imutils.resize(img, width=500 )\n",
    "cv2.imshow(\"Original Image\", img)\n",
    "cv2.waitKey(0)\n",
    "cv2.destroyAllWindows()  "
   ]
  },
  {
   "cell_type": "code",
   "execution_count": 5,
   "metadata": {},
   "outputs": [
    {
     "data": {
      "text/plain": [
       "array([[[216, 210, 211],\n",
       "        [217, 210, 211],\n",
       "        [217, 210, 212],\n",
       "        ...,\n",
       "        [  0, 255,   0],\n",
       "        [  0, 255,   0],\n",
       "        [  0, 255,   0]],\n",
       "\n",
       "       [[222, 216, 218],\n",
       "        [222, 215, 217],\n",
       "        [223, 215, 217],\n",
       "        ...,\n",
       "        [  0, 255,   0],\n",
       "        [  0, 255,   0],\n",
       "        [  0, 255,   0]],\n",
       "\n",
       "       [[228, 222, 223],\n",
       "        [228, 220, 222],\n",
       "        [226, 218, 219],\n",
       "        ...,\n",
       "        [  0, 255,   0],\n",
       "        [  0, 255,   0],\n",
       "        [  0, 255,   0]],\n",
       "\n",
       "       ...,\n",
       "\n",
       "       [[249, 244, 243],\n",
       "        [248, 243, 242],\n",
       "        [247, 242, 241],\n",
       "        ...,\n",
       "        [218, 197, 175],\n",
       "        [219, 198, 176],\n",
       "        [220, 200, 180]],\n",
       "\n",
       "       [[245, 242, 241],\n",
       "        [246, 242, 241],\n",
       "        [245, 240, 239],\n",
       "        ...,\n",
       "        [219, 200, 178],\n",
       "        [220, 200, 179],\n",
       "        [221, 201, 180]],\n",
       "\n",
       "       [[243, 241, 238],\n",
       "        [244, 242, 238],\n",
       "        [245, 240, 238],\n",
       "        ...,\n",
       "        [218, 199, 177],\n",
       "        [218, 198, 175],\n",
       "        [205, 202, 174]]], dtype=uint8)"
      ]
     },
     "execution_count": 5,
     "metadata": {},
     "output_type": "execute_result"
    }
   ],
   "source": [
    "gray = cv2.cvtColor(img, cv2.COLOR_BGR2GRAY) #convert to grey scale\n",
    "gray = cv2.bilateralFilter(gray, 11, 17, 17) #Blur to reduce noise\n",
    "edged = cv2.Canny(gray, 30, 150) #Perform Edge detection\n",
    "\n",
    "cv2.imshow(\"Canny Edge Detection\", edged)\n",
    "cv2.waitKey(0)\n",
    "cv2.destroyAllWindows() \n",
    "\n",
    "\n",
    "cnts,new = cv2.findContours(edged.copy(), cv2.RETR_LIST, cv2.CHAIN_APPROX_SIMPLE)\n",
    "img1=img.copy()\n",
    "cv2.drawContours(img1,cnts,-1,(0,255,0),3)"
   ]
  },
  {
   "cell_type": "code",
   "execution_count": 6,
   "metadata": {},
   "outputs": [],
   "source": [
    "\n",
    "cnts = sorted(cnts, key = cv2.contourArea, reverse = True)[:30]\n",
    "screenCnt = 0 #will store the number plate contour\n",
    "img2 = img.copy()\n",
    "cv2.drawContours(img2,cnts,-1,(0,255,0),3) \n",
    "\n",
    "cv2.imshow(\"Contour Image\", img2)\n",
    "cv2.waitKey(0)\n",
    "cv2.destroyAllWindows() \n",
    "\n",
    "\n",
    "count=0\n",
    "idx=7\n",
    "# loop over contours\n",
    "for c in cnts:\n",
    "  # approximate the contour\n",
    "        peri = cv2.arcLength(c, True)\n",
    "        approx = cv2.approxPolyDP(c, 0.018 * peri, True)\n",
    "        if len(approx) == 4: #chooses contours with 4 corners\n",
    "                screenCnt = approx\n",
    "                x,y,w,h = cv2.boundingRect(c) #finds co-ordinates of the plate\n",
    "                new_img=img[y:y+h,x:x+w]\n",
    "                cv2.imwrite('./'+str(idx)+'.png',new_img) #stores the new image\n",
    "                idx+=1\n",
    "                break"
   ]
  },
  {
   "cell_type": "code",
   "execution_count": 7,
   "metadata": {},
   "outputs": [],
   "source": [
    "#draws the selected contour on original image       \n",
    "cv2.drawContours(img, [screenCnt], -1, (0, 255, 0), 3)\n",
    "#cv2.imshow(\"Number_Plate\",img)\n",
    "Cropped_loc='./7.png' #the filename of cropped image\n",
    "cv2.imshow(\"cropped\",cv2.imread(Cropped_loc))\n",
    "cv2.imshow(\"Original Image\",img)\n",
    "cv2.waitKey(0)\n",
    "cv2.destroyAllWindows()"
   ]
  },
  {
   "cell_type": "code",
   "execution_count": 8,
   "metadata": {},
   "outputs": [
    {
     "name": "stdout",
     "output_type": "stream",
     "text": [
      "Number : ia\n",
      "\n",
      "PCP-5453;\n",
      "\n"
     ]
    }
   ],
   "source": [
    "\n",
    "pytesseract.pytesseract.tesseract_cmd=r'C:\\\\Program Files (x86)\\\\Tesseract-OCR\\\\tesseract.exe' #exe file for using ocr \n",
    "\n",
    "text=pytesseract.image_to_string(Cropped_loc,lang='eng') #converts image characters to string\n",
    "print(\"Number :\" ,text)\n",
    "\n",
    "cv2.imshow(\"Original Image\",img)\n",
    "cv2.waitKey(0)\n",
    "cv2.destroyAllWindows()       "
   ]
  },
  {
   "cell_type": "code",
   "execution_count": null,
   "metadata": {},
   "outputs": [],
   "source": []
  }
 ],
 "metadata": {
  "interpreter": {
   "hash": "e36654bae0ef1a0b5bdb407093cd13b1818c43bac2ceffd12a42f14e33084e6c"
  },
  "kernelspec": {
   "display_name": "Python 3 (ipykernel)",
   "language": "python",
   "name": "python3"
  },
  "language_info": {
   "codemirror_mode": {
    "name": "ipython",
    "version": 3
   },
   "file_extension": ".py",
   "mimetype": "text/x-python",
   "name": "python",
   "nbconvert_exporter": "python",
   "pygments_lexer": "ipython3",
   "version": "3.9.7"
  }
 },
 "nbformat": 4,
 "nbformat_minor": 2
}
