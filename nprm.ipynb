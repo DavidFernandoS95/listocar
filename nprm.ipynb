{
 "cells": [
  {
   "cell_type": "code",
   "execution_count": null,
   "metadata": {},
   "outputs": [],
   "source": [
    "!pip install opencv-python\n",
    "!pip install pytesseract\n",
    "!pip install imutils\n",
    "!pip install numpy\n",
    "!pip install Pillow\n",
    "\n",
    "\n",
    "import cv2\n",
    "import pytesseract\n",
    "import imutils\n",
    "import numpy as np\n",
    "from PIL import Image\n",
    "\n",
    "      \n",
    "pytesseract.pytesseract.tesseract_cmd = 'C:\\\\Program Files (x86)\\\\Tesseract-OCR\\\\tesseract.exe'\n",
    "\n",
    "\n",
    "img = cv2.imread('C:\\\\Users\\\\David Salinas\\\\Documents\\\\codigos de prueba para el proyecto\\\\Number_Plate_Recognition-main\\\\placas\\\\9.jpg',cv2.IMREAD_COLOR)\n",
    "img = imutils.resize(img, width=500 )\n",
    "\n",
    "\n",
    "gray = cv2.cvtColor(img, cv2.COLOR_BGR2GRAY) #convert to grey scale\n",
    "gray = cv2.bilateralFilter(gray, 11, 17, 17) #Blur to reduce noise\n",
    "edged = cv2.Canny(gray, 30, 150) #Perform Edge detection\n",
    "\n",
    "\n",
    "cnts,new = cv2.findContours(edged.copy(), cv2.RETR_LIST, cv2.CHAIN_APPROX_SIMPLE)\n",
    "img1=img.copy()\n",
    "cv2.drawContours(img1,cnts,-1,(0,255,0),3)\n",
    "\n",
    "cnts = sorted(cnts, key = cv2.contourArea, reverse = True)[:30]\n",
    "screenCnt = 0 #will store the number plate contour\n",
    "img2 = img.copy()\n",
    "cv2.drawContours(img2,cnts,-1,(0,255,0),3) \n",
    "\n",
    "\n",
    "count=0\n",
    "idx=7\n",
    "# loop over contours\n",
    "for c in cnts:\n",
    "  # approximate the contour\n",
    "        peri = cv2.arcLength(c, True)\n",
    "        approx = cv2.approxPolyDP(c, 0.018 * peri, True)\n",
    "        if len(approx) == 4: #chooses contours with 4 corners\n",
    "                screenCnt = approx\n",
    "                x,y,w,h = cv2.boundingRect(c) #finds co-ordinates of the plate\n",
    "                new_img=img[y:y+h,x:x+w]\n",
    "                cv2.imwrite('./'+str(idx)+'.png',new_img) #stores the new image\n",
    "                idx+=1\n",
    "                break\n",
    "\n",
    "                \n",
    "#draws the selected contour on original image       \n",
    "cv2.drawContours(img, [screenCnt], -1, (0, 255, 0), 3)\n",
    "Cropped_loc='./7.png' #the filename of cropped image\n",
    "\n",
    "\n",
    "pytesseract.pytesseract.tesseract_cmd=r'C:\\\\Program Files (x86)\\\\Tesseract-OCR\\\\tesseract.exe' #exe file for using ocr \n",
    "\n",
    "text=pytesseract.image_to_string(Cropped_loc,lang='eng') #converts image characters to string\n",
    "print(\"Number :\" ,text)\n"
   ]
  },
  {
   "cell_type": "code",
   "execution_count": null,
   "metadata": {},
   "outputs": [],
   "source": []
  }
 ],
 "metadata": {
  "interpreter": {
   "hash": "e36654bae0ef1a0b5bdb407093cd13b1818c43bac2ceffd12a42f14e33084e6c"
  },
  "kernelspec": {
   "display_name": "Python 3 (ipykernel)",
   "language": "python",
   "name": "python3"
  },
  "language_info": {
   "codemirror_mode": {
    "name": "ipython",
    "version": 3
   },
   "file_extension": ".py",
   "mimetype": "text/x-python",
   "name": "python",
   "nbconvert_exporter": "python",
   "pygments_lexer": "ipython3",
   "version": "3.9.7"
  }
 },
 "nbformat": 4,
 "nbformat_minor": 2
}
